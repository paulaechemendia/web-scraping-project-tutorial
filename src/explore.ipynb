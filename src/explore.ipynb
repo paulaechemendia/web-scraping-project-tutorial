{
    "cells": [
        {
            "cell_type": "markdown",
            "metadata": {},
            "source": [
                "# Explore here\n",
                "\n",
                "It's recommended to use this notebook for exploration purposes."
            ]
        },
        {
            "cell_type": "code",
            "execution_count": 57,
            "metadata": {},
            "outputs": [
                {
                    "name": "stdout",
                    "output_type": "stream",
                    "text": [
                        "Defaulting to user installation because normal site-packages is not writeable\n",
                        "Requirement already satisfied: pandas in /home/vscode/.local/lib/python3.11/site-packages (1.4.2)\n",
                        "Requirement already satisfied: requests in /home/vscode/.local/lib/python3.11/site-packages (2.27.1)\n",
                        "Requirement already satisfied: python-dateutil>=2.8.1 in /home/vscode/.local/lib/python3.11/site-packages (from pandas) (2.8.2)\n",
                        "Requirement already satisfied: pytz>=2020.1 in /home/vscode/.local/lib/python3.11/site-packages (from pandas) (2024.1)\n",
                        "Requirement already satisfied: numpy>=1.21.0 in /home/vscode/.local/lib/python3.11/site-packages (from pandas) (1.26.4)\n",
                        "Requirement already satisfied: urllib3<1.27,>=1.21.1 in /home/vscode/.local/lib/python3.11/site-packages (from requests) (1.26.18)\n",
                        "Requirement already satisfied: certifi>=2017.4.17 in /home/vscode/.local/lib/python3.11/site-packages (from requests) (2024.2.2)\n",
                        "Requirement already satisfied: charset-normalizer~=2.0.0 in /home/vscode/.local/lib/python3.11/site-packages (from requests) (2.0.12)\n",
                        "Requirement already satisfied: idna<4,>=2.5 in /home/vscode/.local/lib/python3.11/site-packages (from requests) (3.6)\n",
                        "Requirement already satisfied: six>=1.5 in /home/vscode/.local/lib/python3.11/site-packages (from python-dateutil>=2.8.1->pandas) (1.16.0)\n",
                        "\n",
                        "\u001b[1m[\u001b[0m\u001b[34;49mnotice\u001b[0m\u001b[1;39;49m]\u001b[0m\u001b[39;49m A new release of pip is available: \u001b[0m\u001b[31;49m23.1.2\u001b[0m\u001b[39;49m -> \u001b[0m\u001b[32;49m24.0\u001b[0m\n",
                        "\u001b[1m[\u001b[0m\u001b[34;49mnotice\u001b[0m\u001b[1;39;49m]\u001b[0m\u001b[39;49m To update, run: \u001b[0m\u001b[32;49mpip install --upgrade pip\u001b[0m\n"
                    ]
                }
            ],
            "source": [
                "!pip install pandas requests"
            ]
        },
        {
            "cell_type": "code",
            "execution_count": 58,
            "metadata": {},
            "outputs": [
                {
                    "data": {
                        "text/plain": [
                            "'<html>\\r\\n<head>\\r\\n\\n</head>\\r\\n<body>\\r\\n<div style=\"margin: 50px auto; width: 50%; border: 1px solid #dfdfdf; padding: 20px 50px 30px 50px; font-family:helvetica;\">\\r\\n\\r\\n<h1>We do not allow automated access to our servers.</h1>\\r\\n<h2><p>Automated access to our data is prohibited by our data provider.</p>  \\r\\n<p>If you are a user attempting to access the site via a browser, please follow this process to regain access:</p>\\r\\n\\r\\n<ul>\\r\\n  <li>Go to <a href=\\'https://whatismyipaddress.com/\\' target=\\'_blank\\' rel=\\'noopener noreferrer\\'>whatismyipaddress</a> and obtain your IPv4 address</li>\\r\\n  <li>Email us your IPv4 address at <a href=\"/cdn-cgi/l/email-protection\" class=\"__cf_email__\" data-cfemail=\"4821262e270825292b3a273c3a2d262c3b66262d3c\">[email&#160;protected]</a></li>\\r\\n  <li>We will add you to our whitelist within 24 hours</li>\\r\\n</ul>\\r\\n</h2>\\r\\n</div>\\r\\n<script data-cfasync=\"false\">!function(){\"use strict\";function e(e){try{if(\"undefined\"==typeof console)return;\"error\"in console?console.error(e):console.log(e)}catch(e){}}function t(e,t){var r=e.substr(t,2);return parseInt(r,16)}function r(r,n){for(var c=\"\",o=t(r,n),a=n+2;a<r.length;a+=2){var l=t(r,a)^o;c+=String.fromCharCode(l)}try{c=decodeURIComponent(escape(c))}catch(t){e(t)}return function(e){return i.innerHTML=\\'<a href=\"\\'+e.replace(/\"/g,\"&quot;\")+\\'\"></a>\\',i.childNodes[0].getAttribute(\"href\")||\"\"}(c)}function n(t){try{(function(t){for(var n=t.querySelectorAll(\"a\"),o=0;o<n.length;o++)try{var a=n[o],i=a.href.indexOf(c);i>-1&&(a.href=\"mailto:\"+r(a.href,i+c.length))}catch(t){e(t)}})(t),function(t){for(var n=t.querySelectorAll(o),c=0;c<n.length;c++)try{var i=n[c],l=i.parentNode,u=i.getAttribute(a);if(u){var f=r(u,0),d=document.createTextNode(f);l.replaceChild(d,i)}}catch(t){e(t)}}(t),function(t){for(var r=t.querySelectorAll(\"template\"),c=0;c<r.length;c++)try{n(r[c].content)}catch(t){e(t)}}(t)}catch(t){e(t)}}var c=\"/cdn-cgi/l/email-protection#\",o=\".__cf_email__\",a=\"data-cfemail\",i=document.createElement(\"div\");n(document),function(){var e=document.currentScript||document.scripts[document.scripts.length-1];e.parentNode.removeChild(e)}()}();</script><script>(function(){var js = \"window[\\'__CF$cv$params\\']={r:\\'8515b49d6f1060f0\\',t:\\'MTcwNzI0Njc1NS40NDQwMDA=\\'};_cpo=document.createElement(\\'script\\');_cpo.nonce=\\'\\',_cpo.src=\\'/cdn-cgi/challenge-platform/scripts/jsd/main.js\\',document.getElementsByTagName(\\'head\\')[0].appendChild(_cpo);\";var _0xh = document.createElement(\\'iframe\\');_0xh.height = 1;_0xh.width = 1;_0xh.style.position = \\'absolute\\';_0xh.style.top = 0;_0xh.style.left = 0;_0xh.style.border = \\'none\\';_0xh.style.visibility = \\'hidden\\';document.body.appendChild(_0xh);function handler() {var _0xi = _0xh.contentDocument || _0xh.contentWindow.document;if (_0xi) {var _0xj = _0xi.createElement(\\'script\\');_0xj.innerHTML = js;_0xi.getElementsByTagName(\\'head\\')[0].appendChild(_0xj);}}if (document.readyState !== \\'loading\\') {handler();} else if (window.addEventListener) {document.addEventListener(\\'DOMContentLoaded\\', handler);} else {var prev = document.onreadystatechange || function () {};document.onreadystatechange = function (e) {prev(e);if (document.readyState !== \\'loading\\') {document.onreadystatechange = prev;handler();}};}})();</script></body>\\r\\n</html>'"
                        ]
                    },
                    "execution_count": 58,
                    "metadata": {},
                    "output_type": "execute_result"
                }
            ],
            "source": [
                "import requests\n",
                "import time\n",
                "\n",
                "url = \" https://www.macrotrends.net/stocks/charts/TSLA/tesla/revenue\"\n",
                "html_data = requests.get(url, time.sleep(10)).text\n",
                "\n",
                "# If not information is extracted, then connect as anonymous\n",
                "if \"403 Forbidden\" in html_data:\n",
                "    headers = {\"User-Agent\": \"Mozilla/5.0 (Macintosh; Intel Mac OS X 10_11_5) AppleWebKit/537.36 (KHTML, like Gecko) Chrome/50.0.2661.102 Safari/537.36\"}\n",
                "    request = requests.get(url, headers = headers)\n",
                "    time.sleep(10)\n",
                "    html_data = request.text\n",
                "\n",
                "html_data"
            ]
        },
        {
            "cell_type": "code",
            "execution_count": 59,
            "metadata": {},
            "outputs": [
                {
                    "data": {
                        "text/plain": [
                            "<html>\n",
                            "<head>\n",
                            "</head>\n",
                            "<body>\n",
                            "<div style=\"margin: 50px auto; width: 50%; border: 1px solid #dfdfdf; padding: 20px 50px 30px 50px; font-family:helvetica;\">\n",
                            "<h1>We do not allow automated access to our servers.</h1>\n",
                            "<h2><p>Automated access to our data is prohibited by our data provider.</p>\n",
                            "<p>If you are a user attempting to access the site via a browser, please follow this process to regain access:</p>\n",
                            "<ul>\n",
                            "<li>Go to <a href=\"https://whatismyipaddress.com/\" rel=\"noopener noreferrer\" target=\"_blank\">whatismyipaddress</a> and obtain your IPv4 address</li>\n",
                            "<li>Email us your IPv4 address at <a class=\"__cf_email__\" data-cfemail=\"4821262e270825292b3a273c3a2d262c3b66262d3c\" href=\"/cdn-cgi/l/email-protection\">[email protected]</a></li>\n",
                            "<li>We will add you to our whitelist within 24 hours</li>\n",
                            "</ul>\n",
                            "</h2>\n",
                            "</div>\n",
                            "<script data-cfasync=\"false\">!function(){\"use strict\";function e(e){try{if(\"undefined\"==typeof console)return;\"error\"in console?console.error(e):console.log(e)}catch(e){}}function t(e,t){var r=e.substr(t,2);return parseInt(r,16)}function r(r,n){for(var c=\"\",o=t(r,n),a=n+2;a<r.length;a+=2){var l=t(r,a)^o;c+=String.fromCharCode(l)}try{c=decodeURIComponent(escape(c))}catch(t){e(t)}return function(e){return i.innerHTML='<a href=\"'+e.replace(/\"/g,\"&quot;\")+'\"></a>',i.childNodes[0].getAttribute(\"href\")||\"\"}(c)}function n(t){try{(function(t){for(var n=t.querySelectorAll(\"a\"),o=0;o<n.length;o++)try{var a=n[o],i=a.href.indexOf(c);i>-1&&(a.href=\"mailto:\"+r(a.href,i+c.length))}catch(t){e(t)}})(t),function(t){for(var n=t.querySelectorAll(o),c=0;c<n.length;c++)try{var i=n[c],l=i.parentNode,u=i.getAttribute(a);if(u){var f=r(u,0),d=document.createTextNode(f);l.replaceChild(d,i)}}catch(t){e(t)}}(t),function(t){for(var r=t.querySelectorAll(\"template\"),c=0;c<r.length;c++)try{n(r[c].content)}catch(t){e(t)}}(t)}catch(t){e(t)}}var c=\"/cdn-cgi/l/email-protection#\",o=\".__cf_email__\",a=\"data-cfemail\",i=document.createElement(\"div\");n(document),function(){var e=document.currentScript||document.scripts[document.scripts.length-1];e.parentNode.removeChild(e)}()}();</script><script>(function(){var js = \"window['__CF$cv$params']={r:'8515b49d6f1060f0',t:'MTcwNzI0Njc1NS40NDQwMDA='};_cpo=document.createElement('script');_cpo.nonce='',_cpo.src='/cdn-cgi/challenge-platform/scripts/jsd/main.js',document.getElementsByTagName('head')[0].appendChild(_cpo);\";var _0xh = document.createElement('iframe');_0xh.height = 1;_0xh.width = 1;_0xh.style.position = 'absolute';_0xh.style.top = 0;_0xh.style.left = 0;_0xh.style.border = 'none';_0xh.style.visibility = 'hidden';document.body.appendChild(_0xh);function handler() {var _0xi = _0xh.contentDocument || _0xh.contentWindow.document;if (_0xi) {var _0xj = _0xi.createElement('script');_0xj.innerHTML = js;_0xi.getElementsByTagName('head')[0].appendChild(_0xj);}}if (document.readyState !== 'loading') {handler();} else if (window.addEventListener) {document.addEventListener('DOMContentLoaded', handler);} else {var prev = document.onreadystatechange || function () {};document.onreadystatechange = function (e) {prev(e);if (document.readyState !== 'loading') {document.onreadystatechange = prev;handler();}};}})();</script></body>\n",
                            "</html>"
                        ]
                    },
                    "execution_count": 59,
                    "metadata": {},
                    "output_type": "execute_result"
                }
            ],
            "source": [
                "from bs4 import BeautifulSoup\n",
                "\n",
                "soup = BeautifulSoup(html_data,\"html.parser\")\n",
                "soup"
            ]
        },
        {
            "cell_type": "markdown",
            "metadata": {},
            "source": [
                "Table:"
            ]
        },
        {
            "cell_type": "code",
            "execution_count": 60,
            "metadata": {},
            "outputs": [
                {
                    "data": {
                        "text/plain": [
                            "[]"
                        ]
                    },
                    "execution_count": 60,
                    "metadata": {},
                    "output_type": "execute_result"
                }
            ],
            "source": [
                "tables = soup.find_all(\"table\")\n",
                "tables"
            ]
        },
        {
            "cell_type": "code",
            "execution_count": 61,
            "metadata": {},
            "outputs": [
                {
                    "data": {
                        "text/html": [
                            "<div>\n",
                            "<style scoped>\n",
                            "    .dataframe tbody tr th:only-of-type {\n",
                            "        vertical-align: middle;\n",
                            "    }\n",
                            "\n",
                            "    .dataframe tbody tr th {\n",
                            "        vertical-align: top;\n",
                            "    }\n",
                            "\n",
                            "    .dataframe thead th {\n",
                            "        text-align: right;\n",
                            "    }\n",
                            "</style>\n",
                            "<table border=\"1\" class=\"dataframe\">\n",
                            "  <thead>\n",
                            "    <tr style=\"text-align: right;\">\n",
                            "      <th></th>\n",
                            "      <th>Date</th>\n",
                            "      <th>Revenue</th>\n",
                            "    </tr>\n",
                            "  </thead>\n",
                            "  <tbody>\n",
                            "  </tbody>\n",
                            "</table>\n",
                            "</div>"
                        ],
                        "text/plain": [
                            "Empty DataFrame\n",
                            "Columns: [Date, Revenue]\n",
                            "Index: []"
                        ]
                    },
                    "execution_count": 61,
                    "metadata": {},
                    "output_type": "execute_result"
                }
            ],
            "source": [
                "import pandas as pd\n",
                "\n",
                "\n",
                "for index, table in enumerate(tables):\n",
                "    if (\"Tesla Quarterly Revenue\" in str(table)):\n",
                "        table_index = index\n",
                "    tesla_revenue = pd.DataFrame(columns = [\"Date\", \"Revenue\"])\n",
                "    for row in tables[table_index].tbody.find_all(\"tr\"):\n",
                "        col = row.find_all(\"td\")\n",
                "        if (col != []):\n",
                "            Date = col[0].text\n",
                "            Revenue = col[1].text.replace(\"$\", \"\").replace(\",\", \"\")\n",
                "            tesla_revenue = pd.concat([tesla_revenue, pd.DataFrame({\n",
                "                \"Date\": Date,\n",
                "                \"Revenue\": Revenue\n",
                "            }, index = [0])], ignore_index = True)\n",
                "\n",
                "tesla_revenue.head()\n"
            ]
        },
        {
            "cell_type": "code",
            "execution_count": 62,
            "metadata": {},
            "outputs": [
                {
                    "data": {
                        "text/html": [
                            "<div>\n",
                            "<style scoped>\n",
                            "    .dataframe tbody tr th:only-of-type {\n",
                            "        vertical-align: middle;\n",
                            "    }\n",
                            "\n",
                            "    .dataframe tbody tr th {\n",
                            "        vertical-align: top;\n",
                            "    }\n",
                            "\n",
                            "    .dataframe thead th {\n",
                            "        text-align: right;\n",
                            "    }\n",
                            "</style>\n",
                            "<table border=\"1\" class=\"dataframe\">\n",
                            "  <thead>\n",
                            "    <tr style=\"text-align: right;\">\n",
                            "      <th></th>\n",
                            "      <th>Date</th>\n",
                            "      <th>Revenue</th>\n",
                            "    </tr>\n",
                            "  </thead>\n",
                            "  <tbody>\n",
                            "  </tbody>\n",
                            "</table>\n",
                            "</div>"
                        ],
                        "text/plain": [
                            "Empty DataFrame\n",
                            "Columns: [Date, Revenue]\n",
                            "Index: []"
                        ]
                    },
                    "execution_count": 62,
                    "metadata": {},
                    "output_type": "execute_result"
                }
            ],
            "source": [
                "tesla_revenue = tesla_revenue[tesla_revenue[\"Revenue\"] != \"\"]\n",
                "tesla_revenue.head()"
            ]
        },
        {
            "cell_type": "code",
            "execution_count": 65,
            "metadata": {},
            "outputs": [
                {
                    "data": {
                        "text/plain": [
                            "<sqlite3.Connection at 0x7ff3cf8508b0>"
                        ]
                    },
                    "execution_count": 65,
                    "metadata": {},
                    "output_type": "execute_result"
                }
            ],
            "source": [
                "import sqlite3\n",
                "\n",
                "connection = sqlite3.connect(\"Tesla.db\")\n",
                "connection"
            ]
        },
        {
            "cell_type": "code",
            "execution_count": 66,
            "metadata": {},
            "outputs": [
                {
                    "data": {
                        "text/plain": [
                            "[]"
                        ]
                    },
                    "execution_count": 66,
                    "metadata": {},
                    "output_type": "execute_result"
                }
            ],
            "source": [
                "tesla_tuples = list(tesla_revenue.to_records(index = False))\n",
                "tesla_tuples[:5]"
            ]
        },
        {
            "cell_type": "code",
            "execution_count": 67,
            "metadata": {},
            "outputs": [],
            "source": [
                "cursor.executemany(\"INSERT INTO revenue VALUES (?,?)\", tesla_tuples)\n",
                "connection.commit()"
            ]
        },
        {
            "cell_type": "code",
            "execution_count": 68,
            "metadata": {},
            "outputs": [],
            "source": [
                "for row in cursor.execute(\"SELECT * FROM revenue\"):\n",
                "    print(row)"
            ]
        }
    ],
    "metadata": {
        "kernelspec": {
            "display_name": "Python 3.8.13 64-bit ('3.8.13')",
            "language": "python",
            "name": "python3"
        },
        "language_info": {
            "codemirror_mode": {
                "name": "ipython",
                "version": 3
            },
            "file_extension": ".py",
            "mimetype": "text/x-python",
            "name": "python",
            "nbconvert_exporter": "python",
            "pygments_lexer": "ipython3",
            "version": "3.11.4"
        },
        "orig_nbformat": 4,
        "vscode": {
            "interpreter": {
                "hash": "110cc1dee26208153f2972f08a2ad52b6a56238dc66d48e87fb757ef2996db56"
            }
        }
    },
    "nbformat": 4,
    "nbformat_minor": 2
}

{
    "cells": [
        {
            "cell_type": "markdown",
            "metadata": {},
            "source": [
                "# Explore here\n",
                "\n",
                "It's recommended to use this notebook for exploration purposes."
            ]
        },
        {
            "cell_type": "code",
            "execution_count": 29,
            "metadata": {},
            "outputs": [
                {
                    "data": {
                        "text/plain": [
                            "<table class=\"historical_data_table table\">\n",
                            "<thead>\n",
                            "<tr>\n",
                            "<th colspan=\"2\" style=\"text-align:center\">Tesla Annual Revenue<br/><span style=\"font-size:14px;\">(Millions of US $)</span></th>\n",
                            "</tr>\n",
                            "</thead>\n",
                            "<tbody>\n",
                            "<tr>\n",
                            "<td style=\"text-align:center\">2022</td>\n",
                            "<td style=\"text-align:center\">$81,462</td>\n",
                            "</tr>\n",
                            "<tr>\n",
                            "<td style=\"text-align:center\">2021</td>\n",
                            "<td style=\"text-align:center\">$53,823</td>\n",
                            "</tr>\n",
                            "<tr>\n",
                            "<td style=\"text-align:center\">2020</td>\n",
                            "<td style=\"text-align:center\">$31,536</td>\n",
                            "</tr>\n",
                            "<tr>\n",
                            "<td style=\"text-align:center\">2019</td>\n",
                            "<td style=\"text-align:center\">$24,578</td>\n",
                            "</tr>\n",
                            "<tr>\n",
                            "<td style=\"text-align:center\">2018</td>\n",
                            "<td style=\"text-align:center\">$21,461</td>\n",
                            "</tr>\n",
                            "<tr>\n",
                            "<td style=\"text-align:center\">2017</td>\n",
                            "<td style=\"text-align:center\">$11,759</td>\n",
                            "</tr>\n",
                            "<tr>\n",
                            "<td style=\"text-align:center\">2016</td>\n",
                            "<td style=\"text-align:center\">$7,000</td>\n",
                            "</tr>\n",
                            "<tr>\n",
                            "<td style=\"text-align:center\">2015</td>\n",
                            "<td style=\"text-align:center\">$4,046</td>\n",
                            "</tr>\n",
                            "<tr>\n",
                            "<td style=\"text-align:center\">2014</td>\n",
                            "<td style=\"text-align:center\">$3,198</td>\n",
                            "</tr>\n",
                            "<tr>\n",
                            "<td style=\"text-align:center\">2013</td>\n",
                            "<td style=\"text-align:center\">$2,013</td>\n",
                            "</tr>\n",
                            "<tr>\n",
                            "<td style=\"text-align:center\">2012</td>\n",
                            "<td style=\"text-align:center\">$413</td>\n",
                            "</tr>\n",
                            "<tr>\n",
                            "<td style=\"text-align:center\">2011</td>\n",
                            "<td style=\"text-align:center\">$204</td>\n",
                            "</tr>\n",
                            "<tr>\n",
                            "<td style=\"text-align:center\">2010</td>\n",
                            "<td style=\"text-align:center\">$117</td>\n",
                            "</tr>\n",
                            "<tr>\n",
                            "<td style=\"text-align:center\">2009</td>\n",
                            "<td style=\"text-align:center\">$112</td>\n",
                            "</tr>\n",
                            "</tbody>\n",
                            "</table>"
                        ]
                    },
                    "execution_count": 29,
                    "metadata": {},
                    "output_type": "execute_result"
                }
            ],
            "source": [
                "import os\n",
                "from sqlalchemy import create_engine\n",
                "import pandas as pd\n",
                "from dotenv import load_dotenv\n",
                "import requests\n",
                "import time\n",
                "import lxml\n",
                "from bs4 import BeautifulSoup as bs\n",
                "from urllib.request import urlopen\n",
                "# load the .env file variables\n",
                "load_dotenv()\n",
                "\n",
                "url = 'https://www.macrotrends.net/stocks/charts/TSLA/tesla/revenue'\n",
                "\n",
                "# Petición para descargar el fichero de Internet\n",
                "response = requests.get(url, time.sleep(10)).text\n",
                "if \"403 Forbidden\" in response:\n",
                "    headers = {\"User-Agent\": \"Mozilla/5.0 (Macintosh; Intel Mac OS X 10_11_5) AppleWebKit/537.36 (KHTML, like Gecko) Chrome/50.0.2661.102 Safari/537.36\"}\n",
                "    request = requests.get(url, headers = headers)\n",
                "    time.sleep(10)\n",
                "    response = request.text\n",
                "\n",
                "\n",
                "\n",
                "soup = bs(response, 'html.parser')\n",
                "\n",
                "revenues = soup.find_all('table', class_=\"historical_data_table\")[0]\n",
                "\n",
                "revenues\n",
                "\n",
                "\n",
                "\n",
                "# 1) Connect to the database here using the SQLAlchemy's create_engine function\n",
                "\n",
                "# 2) Execute the SQL sentences to create your tables using the SQLAlchemy's execute function\n",
                "\n",
                "# 3) Execute the SQL sentences to insert your data using the SQLAlchemy's execute function\n",
                "\n",
                "# 4) Use pandas to print one of the tables as dataframes using read_sql function\n"
            ]
        },
        {
            "cell_type": "code",
            "execution_count": 40,
            "metadata": {},
            "outputs": [
                {
                    "name": "stdout",
                    "output_type": "stream",
                    "text": [
                        "['2022', '2021', '2020', '2019', '2018', '2017', '2016', '2015', '2014', '2013', '2012', '2011', '2010', '2009']\n"
                    ]
                }
            ],
            "source": [
                "import os\n",
                "from sqlalchemy import create_engine\n",
                "import pandas as pd\n",
                "from dotenv import load_dotenv\n",
                "import requests\n",
                "import time\n",
                "import lxml\n",
                "from bs4 import BeautifulSoup as bs\n",
                "from urllib.request import urlopen\n",
                "list1 = []\n",
                "list2 = []\n",
                "rows = revenues.find_all('tr')\n",
                "for row in rows:\n",
                "    cols = row.find_all('td')\n",
                "    if len(cols) == 0:\n",
                "        continue\n",
                "    else:\n",
                "        list1.append(cols[0].text)\n",
                "        list2.append(cols[1].text)\n",
                "\n",
                "print(list1)\n"
            ]
        },
        {
            "cell_type": "code",
            "execution_count": 31,
            "metadata": {},
            "outputs": [
                {
                    "ename": "TypeError",
                    "evalue": "unsupported operand type(s) for +: 'Tag' and 'str'",
                    "output_type": "error",
                    "traceback": [
                        "\u001b[0;31m---------------------------------------------------------------------------\u001b[0m",
                        "\u001b[0;31mTypeError\u001b[0m                                 Traceback (most recent call last)",
                        "\u001b[1;32m/workspaces/web-scraping-project-tutorial/src/explore.ipynb Celda 4\u001b[0m line \u001b[0;36m1\n\u001b[1;32m      <a href='vscode-notebook-cell://codespaces%2Bsupreme-robot-7v9rp996p96qcxxq/workspaces/web-scraping-project-tutorial/src/explore.ipynb#W2sdnNjb2RlLXJlbW90ZQ%3D%3D?line=8'>9</a>\u001b[0m \u001b[39mfrom\u001b[39;00m \u001b[39murllib\u001b[39;00m\u001b[39m.\u001b[39;00m\u001b[39mrequest\u001b[39;00m \u001b[39mimport\u001b[39;00m urlopen\n\u001b[1;32m     <a href='vscode-notebook-cell://codespaces%2Bsupreme-robot-7v9rp996p96qcxxq/workspaces/web-scraping-project-tutorial/src/explore.ipynb#W2sdnNjb2RlLXJlbW90ZQ%3D%3D?line=11'>12</a>\u001b[0m \u001b[39mfor\u001b[39;00m row \u001b[39min\u001b[39;00m rows:\n\u001b[0;32m---> <a href='vscode-notebook-cell://codespaces%2Bsupreme-robot-7v9rp996p96qcxxq/workspaces/web-scraping-project-tutorial/src/explore.ipynb#W2sdnNjb2RlLXJlbW90ZQ%3D%3D?line=12'>13</a>\u001b[0m     revenues \u001b[39m=\u001b[39m revenues \u001b[39m+\u001b[39;49m \u001b[39m\"\u001b[39;49m\u001b[39m<tr>\u001b[39;49m\u001b[39m\"\u001b[39;49m\n\u001b[1;32m     <a href='vscode-notebook-cell://codespaces%2Bsupreme-robot-7v9rp996p96qcxxq/workspaces/web-scraping-project-tutorial/src/explore.ipynb#W2sdnNjb2RlLXJlbW90ZQ%3D%3D?line=13'>14</a>\u001b[0m     \u001b[39mfor\u001b[39;00m col \u001b[39min\u001b[39;00m row:\n\u001b[1;32m     <a href='vscode-notebook-cell://codespaces%2Bsupreme-robot-7v9rp996p96qcxxq/workspaces/web-scraping-project-tutorial/src/explore.ipynb#W2sdnNjb2RlLXJlbW90ZQ%3D%3D?line=14'>15</a>\u001b[0m         revenues \u001b[39m=\u001b[39m revenues \u001b[39m+\u001b[39m \u001b[39m\"\u001b[39m\u001b[39m<td>\u001b[39m\u001b[39m\"\u001b[39m \u001b[39m+\u001b[39m col\u001b[39m.\u001b[39mreplace(\u001b[39m\"\u001b[39m\u001b[39m \u001b[39m\u001b[39m\"\u001b[39m, \u001b[39m\"\u001b[39m\u001b[39m\"\u001b[39m) \u001b[39m+\u001b[39m \u001b[39m\"\u001b[39m\u001b[39m</td>\u001b[39m\u001b[39m\"\u001b[39m\n",
                        "\u001b[0;31mTypeError\u001b[0m: unsupported operand type(s) for +: 'Tag' and 'str'"
                    ]
                }
            ],
            "source": [
                "import os\n",
                "from sqlalchemy import create_engine\n",
                "import pandas as pd\n",
                "from dotenv import load_dotenv\n",
                "import requests\n",
                "import time\n",
                "import lxml\n",
                "from bs4 import BeautifulSoup as bs\n",
                "from urllib.request import urlopen\n",
                "\n",
                "\n",
                "for row in rows:\n",
                "    revenues = revenues + \"<tr>\"\n",
                "    for col in row:\n",
                "        revenues = revenues + \"<td>\" + col.replace(\" \", \"\") + \"</td>\"\n",
                "    revenues = revenues + \"</tr>\"\n",
                "    \n",
                "revenues = revenues + \"</table>\"\n"
            ]
        }
    ],
    "metadata": {
        "kernelspec": {
            "display_name": "Python 3.8.13 64-bit ('3.8.13')",
            "language": "python",
            "name": "python3"
        },
        "language_info": {
            "codemirror_mode": {
                "name": "ipython",
                "version": 3
            },
            "file_extension": ".py",
            "mimetype": "text/x-python",
            "name": "python",
            "nbconvert_exporter": "python",
            "pygments_lexer": "ipython3",
            "version": "3.11.4"
        },
        "orig_nbformat": 4,
        "vscode": {
            "interpreter": {
                "hash": "110cc1dee26208153f2972f08a2ad52b6a56238dc66d48e87fb757ef2996db56"
            }
        }
    },
    "nbformat": 4,
    "nbformat_minor": 2
}
